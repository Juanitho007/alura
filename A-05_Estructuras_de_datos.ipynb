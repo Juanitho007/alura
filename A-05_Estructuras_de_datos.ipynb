{
 "cells": [
  {
   "cell_type": "markdown",
   "id": "a0d1b7e6",
   "metadata": {},
   "source": [
    "Vamos practicar el uso de estructuras de datos, como listas y diccionarios, a través de algunas actividades. Ahora que estamos avanzando en el contenido, podemos hacer los desafíos más interesantes. ¡Para ello, trabajaremos con proyectos de código!\n",
    "\n",
    "Primero, resolveremos algunos problemas para calentar y prepararnos para los proyectos.\n",
    "\n",
    "# Entrenando la programación\n",
    "\n",
    "1 - Crea un programa que tenga la siguiente lista con los gastos de una empresa de papel [2172.54, 3701.35, 3518.09, 3456.61, 3249.38, 2840.82, 3891.45, 3075.26, 2317.64, 3219.08]. Con estos valores, crea un programa que calcule el promedio de gastos. Sugerencia: usa las funciones integradas sum() y len()."
   ]
  },
  {
   "cell_type": "code",
   "execution_count": 9,
   "id": "40c5d0ac",
   "metadata": {},
   "outputs": [
    {
     "name": "stdout",
     "output_type": "stream",
     "text": [
      "El promedio de gastos en los 10 meses es de $3144.22\n"
     ]
    }
   ],
   "source": [
    "datos=[2172.54, 3701.35, 3518.09, 3456.61, 3249.38, 2840.82, 3891.45, 3075.26, 2317.64, 3219.08];\n",
    "suma_total= sum(datos);\n",
    "longitud = len(datos);\n",
    "promedio = suma_total/longitud;\n",
    "print('El promedio de gastos en los %d meses es de $%.2f'%(longitud,promedio))"
   ]
  },
  {
   "cell_type": "markdown",
   "id": "b5d9374a",
   "metadata": {},
   "source": [
    "2 - Con los mismos datos de la pregunta anterior, determina cuántas compras se realizaron por encima de 3000 reales y calcula el porcentaje con respecto al total de compras."
   ]
  },
  {
   "cell_type": "code",
   "execution_count": 11,
   "id": "ce951edd",
   "metadata": {},
   "outputs": [
    {
     "name": "stdout",
     "output_type": "stream",
     "text": [
      "Las 7 compras mayores a $3000, representan el 70.00% del total de compras\n"
     ]
    }
   ],
   "source": [
    "contador = 0;\n",
    "for e in datos:\n",
    "   if e>3000:\n",
    "       contador+=1;\n",
    "porcentaje = (contador/longitud)*100;\n",
    "print('Las %d compras mayores a $3000, representan el %.2f%% del total de compras'%(contador,porcentaje))"
   ]
  },
  {
   "cell_type": "markdown",
   "id": "03a3da8a",
   "metadata": {},
   "source": [
    "3 - Crea un código que recoja en una lista 5 números enteros aleatorios e imprima la lista. Ejemplo: [1, 4, 7, 2, 4]."
   ]
  },
  {
   "cell_type": "code",
   "execution_count": null,
   "id": "dd204833",
   "metadata": {},
   "outputs": [
    {
     "name": "stdout",
     "output_type": "stream",
     "text": [
      "[5, 23, 73, 11, 13]\n"
     ]
    },
    {
     "data": {
      "text/plain": [
       "[13, 11, 73, 23, 5]"
      ]
     },
     "execution_count": 123,
     "metadata": {},
     "output_type": "execute_result"
    }
   ],
   "source": [
    "\n",
    "import random\n",
    "data = [];\n",
    "while len(data) <5:\n",
    "    value=random.randint(1,100)\n",
    "    data.append(value)\n",
    "print(data)"
   ]
  },
  {
   "cell_type": "markdown",
   "id": "242783ae",
   "metadata": {},
   "source": [
    "4 - Recoge nuevamente 5 números enteros e imprime la lista en orden inverso al enviado."
   ]
  },
  {
   "cell_type": "code",
   "execution_count": 124,
   "id": "e6e93b4c",
   "metadata": {},
   "outputs": [
    {
     "name": "stdout",
     "output_type": "stream",
     "text": [
      "[13, 11, 73, 23, 5]\n",
      "[13, 11, 73, 23, 5]\n"
     ]
    }
   ],
   "source": [
    "\n",
    "data;\n",
    "data_reverse=[]\n",
    "for n in range(0,len(data)):\n",
    "    data_reverse.insert(0,data[n])\n",
    "print(data_reverse)\n",
    "print(data[::-1])#FORMA CORTA\n"
   ]
  },
  {
   "cell_type": "markdown",
   "id": "c816ab9c",
   "metadata": {},
   "source": [
    "5 - Crea un programa que, al ingresar un número cualquiera, genere una lista que contenga todos los números primos entre 1 y el número ingresado."
   ]
  },
  {
   "cell_type": "code",
   "execution_count": 125,
   "id": "8deb4157",
   "metadata": {},
   "outputs": [
    {
     "name": "stdout",
     "output_type": "stream",
     "text": [
      "Los números primos entre 0 y 100, son: [2, 3, 5, 7, 11, 13, 17, 19, 23, 29, 31, 37, 41, 43, 47, 53, 59, 61, 67, 71, 73, 79, 83, 89, 97]\n"
     ]
    }
   ],
   "source": [
    "numero = int(input(\"Ingresa un número entero para generar los numeros primos existentes\"))\n",
    "data = []\n",
    "\n",
    "\n",
    "if numero > 1:\n",
    "    for n in range(2, numero+1):\n",
    "        primo = True\n",
    "        for i in range(2,int(n**0.5)+1):\n",
    "            if n%i==0:\n",
    "                primo=False\n",
    "                break\n",
    "        if primo:\n",
    "            data.append(n)\n",
    "        \n",
    "print('Los números primos entre 0 y %d, son: %s' % (numero, data))"
   ]
  },
  {
   "cell_type": "markdown",
   "id": "74c07c92",
   "metadata": {},
   "source": [
    "6 - Escribe un programa que pida una fecha, especificando el día, mes y año, y determine si es válida para su análisis."
   ]
  },
  {
   "cell_type": "code",
   "execution_count": 59,
   "id": "39e98ce7",
   "metadata": {},
   "outputs": [
    {
     "name": "stdout",
     "output_type": "stream",
     "text": [
      "La fecha 4-mayo-2993 es válida\n"
     ]
    }
   ],
   "source": [
    "dia = int(input(\"Ingresa un día\"))\n",
    "mes = int(input(\"Ingresa un mes\"))\n",
    "anio = int(input(\"Ingresa un año\"))\n",
    "meses_31={1:'enero',3:'marzo',5:'mayo',7:'julio',8:'agosto',10:'octubre',12:'diciembre'}\n",
    "meses_30={4:'abril',6:'junio',9:'septiembre',11:'noviembre'}\n",
    "if anio > 0:\n",
    "    if mes==2:\n",
    "        if dia==29: \n",
    "            if anio%4==0:\n",
    "                print('La fecha %d-febrero-%d es válida ya que es año bisiesto, por lo que febrero tiene 29 días'%(dia,anio))\n",
    "            else:\n",
    "                print('La fecha %d-febrero-%d no es válida ya que no es año bisiesto.'%(dia,anio))\n",
    "        if 28>= dia >0:\n",
    "            print('La fecha %d-febrero-%d es válida'%(dia,anio))\n",
    "        else:\n",
    "            print('La fecha %d-febrero-%d no es válida, ese día no existe'%(dia,mes,anio))\n",
    "    elif mes in meses_31.keys():\n",
    "        if 31>= dia >0:\n",
    "            print('La fecha %d-%s-%d es válida'%(dia,meses_31[mes],anio))\n",
    "        else:\n",
    "            print('La fecha %d-%s-%d no es válida, ese día no existe'%(dia,meses_31[mes],anio))\n",
    "    elif mes in meses_30.keys():\n",
    "        if 30>= dia >0:\n",
    "            print('La fecha %d-%s-%d es válida'%(dia,meses_30[mes],anio))\n",
    "        else:\n",
    "            print('La fecha %d-%s-%d no es válida, ese día no existe'%(dia,meses_30[mes],anio))\n",
    "    else:\n",
    "            print('La fecha %d-%d-%d no es válida, ese mes o día no existe'%(dia,mes,anio))\n",
    "else:\n",
    "    print('La fecha %d-%d-%d no es válida, ese año no existe'%(dia,mes,anio))\n",
    "        \n",
    "        "
   ]
  },
  {
   "cell_type": "markdown",
   "id": "e059597d",
   "metadata": {},
   "source": [
    "Momento para los proyectos\n",
    "\n",
    "7 - Para un estudio sobre la multiplicación de bacterias en una colonia, se recopiló el número de bacterias multiplicadas por día y se puede observar a continuación: [1.2, 2.1, 3.3, 5.0, 7.8, 11.3, 16.6, 25.1, 37.8, 56.9]. Con estos valores, crea un código que genere una lista que contenga el porcentaje de crecimiento de bacterias por día, comparando el número de bacterias en cada día con el número de bacterias del día anterior. Sugerencia: para calcular el porcentaje de crecimiento, utiliza la siguiente ecuación: 100 * (muestra_actual - muestra_anterior) / muestra_anterior."
   ]
  },
  {
   "cell_type": "code",
   "execution_count": 60,
   "id": "f71b04e5",
   "metadata": {},
   "outputs": [
    {
     "name": "stdout",
     "output_type": "stream",
     "text": [
      "El porcentaje de crecimiento de la bacteria por día es de: ['75.00%', '57.14%', '51.52%', '56.00%', '44.87%', '46.90%', '51.20%', '50.60%', '50.53%']\n"
     ]
    }
   ],
   "source": [
    "data= [1.2, 2.1, 3.3, 5.0, 7.8, 11.3, 16.6, 25.1, 37.8, 56.9]\n",
    "lista=[]\n",
    "for n in range(1,len(data),1):\n",
    "    op=((data[n]-data[n-1])/data[n-1])*100\n",
    "    lista.append('%.2f%%' %(op)) \n",
    "print('El porcentaje de crecimiento de la bacteria por día es de: %s'%(lista))"
   ]
  },
  {
   "cell_type": "markdown",
   "id": "f23c9a4b",
   "metadata": {},
   "source": [
    "8 - Para una selección de productos alimenticios, debemos separar el conjunto de IDs proporcionados por números enteros, sabiendo que los productos con ID par son dulces y los que tienen ID impar son amargos. Crea un código que recoja 10 IDs. Luego, calcula y muestra la cantidad de productos dulces y amargos."
   ]
  },
  {
   "cell_type": "code",
   "execution_count": 61,
   "id": "262e632d",
   "metadata": {},
   "outputs": [
    {
     "name": "stdout",
     "output_type": "stream",
     "text": [
      "Se determinó que el existen 5 productos dulces y 5 amargos\n"
     ]
    }
   ],
   "source": [
    "ids= [2, 7, 4, 9, 6, 13, 8, 11, 10, 15]\n",
    "dulces = 0;\n",
    "amargos = 0; \n",
    "for n in ids:\n",
    "    if (n % 2) == 0:\n",
    "        dulces+=1;\n",
    "    else:\n",
    "        amargos+=1;\n",
    "\n",
    "print('Se determinó que el existen %d productos dulces y %d amargos' % (dulces, amargos))"
   ]
  },
  {
   "cell_type": "markdown",
   "id": "d28161f4",
   "metadata": {},
   "source": [
    "9 - Desarrolla un programa que informe la puntuación de un estudiante de acuerdo con sus respuestas. Debe pedir la respuesta del estudiante para cada pregunta y verificar si la respuesta coincide con el resultado. Cada pregunta vale un punto y hay opciones A, B, C o D.\n",
    "\n",
    "Resultado del examen:\n",
    "01 - D\n",
    "02 - A\n",
    "03 - C\n",
    "04 - B\n",
    "05 - A\n",
    "06 - D\n",
    "07 - C\n",
    "08 - C\n",
    "09 - A\n",
    "10 - B"
   ]
  },
  {
   "cell_type": "code",
   "execution_count": 63,
   "id": "60eeb6a5",
   "metadata": {},
   "outputs": [
    {
     "name": "stdout",
     "output_type": "stream",
     "text": [
      "Tu puntuación final es de: 8\n"
     ]
    }
   ],
   "source": [
    "respuesta = {1:\"D\",2:\"A\",3:\"C\",4:\"B\",5:\"A\",6:\"D\",7:\"C\",8:\"C\",9:\"A\",10:\"B\"};\n",
    "puntaje = 0;\n",
    "for n in respuesta.keys():\n",
    "    value=input('Ingresa la respuesta de la pregunta %d'%(n)).upper()\n",
    "    if value==respuesta[n]:\n",
    "        puntaje+=1;\n",
    "        \n",
    "print('Tu puntuación final es de: {}'.format(puntaje))\n"
   ]
  },
  {
   "cell_type": "markdown",
   "id": "c64128b5",
   "metadata": {},
   "source": [
    "10 - Un instituto de meteorología desea realizar un estudio de la temperatura media de cada mes del año. Para ello, debes crear un código que recoja y almacene esas temperaturas medias en una lista. Luego, calcula el promedio anual de las temperaturas y muestra todas las temperaturas por encima del promedio anual y en qué mes ocurrieron, mostrando los meses por su nombre (Enero, Febrero, etc.)."
   ]
  },
  {
   "cell_type": "code",
   "execution_count": 73,
   "id": "cdba2fab",
   "metadata": {},
   "outputs": [
    {
     "name": "stdout",
     "output_type": "stream",
     "text": [
      "El promedio anual de las temperaturas es de: 14.58°C\n",
      "Meses con temperaturas por encima del promedio anual:\n",
      "ABRIL: 15.0°C\n",
      "MAYO: 17.0°C\n",
      "JUNIO: 19.0°C\n",
      "JULIO: 22.0°C\n",
      "AGOSTO: 25.0°C\n"
     ]
    }
   ],
   "source": [
    "temperaturas = {1:0, 2:0, 3:0, 4:0, 5:0, 6:0, 7:0, 8:0, 9:0, 10:0, 11:0, 12:0};\n",
    "meses={1:'enero', 2:'febrero',3:'marzo',4:'abril',5:'mayo',6:'junio',7:'julio',8:'agosto',9:'septiembre',10:'octubre',11:'noviembre', 12:'diciembre'}\n",
    "for n in temperaturas.keys():\n",
    "    value=float(input('Ingresa la temperatura media de %s'%(meses[n])));\n",
    "    temperaturas[n]=value;\n",
    "promedio=sum(temperaturas.values())/len(temperaturas)\n",
    "superior_media='Meses con temperaturas por encima del promedio anual:'\n",
    "for m,t in temperaturas.items():\n",
    "    if t>promedio:\n",
    "        superior_media+=f'\\n{meses[m].upper()}: {t}°C'\n",
    "print('El promedio anual de las temperaturas es de: %.2f°C\\n%s'%(promedio,superior_media))"
   ]
  },
  {
   "cell_type": "markdown",
   "id": "04cd7fc3",
   "metadata": {},
   "source": [
    "11 - Una empresa de comercio electrónico está interesada en analizar las ventas de sus productos. Los datos de ventas se han almacenado en un diccionario:\n",
    "{'Producto A': 300, 'Producto B': 80, 'Producto C': 60, 'Producto D': 200, 'Producto E': 250, 'Producto F': 30}\n",
    "Escribe un código que calcule el total de ventas y el producto más vendido."
   ]
  },
  {
   "cell_type": "code",
   "execution_count": 88,
   "id": "e7361b6e",
   "metadata": {},
   "outputs": [
    {
     "name": "stdout",
     "output_type": "stream",
     "text": [
      "El total de ventas fue de $920.00 y el producto más vendido fue el Producto A\n"
     ]
    }
   ],
   "source": [
    "ventas= {'Producto A': 300, 'Producto B': 80, 'Producto C': 60, 'Producto D': 200, 'Producto E': 250, 'Producto F': 30};\n",
    "total_ventas = sum(ventas.values());\n",
    "producto_top = max(ventas, key=ventas.get);\n",
    "print('El total de ventas fue de $%.2f y el producto más vendido fue el %s' %(total_ventas,producto_top))"
   ]
  },
  {
   "cell_type": "markdown",
   "id": "95f85d7f",
   "metadata": {},
   "source": [
    "12 - Se realizó una encuesta de mercado para decidir cuál diseño de marca infantil es más atractivo para los niños. Los votos de la encuesta se pueden ver a continuación:\n",
    "\n",
    "Tabla de votos de la marca\n",
    "Diseño 1 - 1334 votos\n",
    "Diseño 2 - 982 votos\n",
    "Diseño 3 - 1751 votos\n",
    "Diseño 4 - 210 votos\n",
    "Diseño 5 - 1811 votos\n",
    "Copia el código\n",
    "Adapta los datos proporcionados a una estructura de diccionario. A partir de ello, informa el diseño ganador y el porcentaje de votos recibidos."
   ]
  },
  {
   "cell_type": "code",
   "execution_count": 91,
   "id": "ae3867a9",
   "metadata": {},
   "outputs": [
    {
     "name": "stdout",
     "output_type": "stream",
     "text": [
      "El 5 es el diseño ganador y lo cual representa el 29.75% del total de votos recibidos.\n"
     ]
    }
   ],
   "source": [
    "votos= {1:1334, 2:982, 3:1751, 4:210, 5:1811}\n",
    "total_votos = sum(votos.values());\n",
    "disenio_top = max(votos, key=votos.get);\n",
    "porcentaje_top = (max(votos.values())/total_votos)*100\n",
    "print('El %s es el diseño ganador y lo cual representa el %.2f%% del total de votos recibidos.'%(disenio_top,porcentaje_top))"
   ]
  },
  {
   "cell_type": "markdown",
   "id": "d7e0ff82",
   "metadata": {},
   "source": [
    "13 - Los empleados de un departamento de tu empresa recibirán una bonificación del 10% de su salario debido a un excelente rendimiento del equipo. El departamento de finanzas ha solicitado tu ayuda para verificar las consecuencias financieras de esta bonificación en los recursos. Se te ha enviado una lista con los salarios que recibirán la bonificación: [1172, 1644, 2617, 5130, 5532, 6341, 6650, 7238, 7685, 7782, 7903]. La bonificación de cada empleado no puede ser inferior a 200. En el código, convierte cada uno de los salarios en claves de un diccionario y la bonificación de cada salario en el valor correspondiente. Luego, informa el gasto total en bonificaciones, cuántos empleados recibieron la bonificación mínima y cuál fue el valor más alto de la bonificación proporcionada."
   ]
  },
  {
   "cell_type": "code",
   "execution_count": 94,
   "id": "660af81f",
   "metadata": {},
   "outputs": [
    {
     "name": "stdout",
     "output_type": "stream",
     "text": [
      "El gasto total de bonificaciones fue de $6087.80, de los cuales 2 empleados recibieron la bonificación mínima, y la bonificación más alta fue de 790.30.\n"
     ]
    }
   ],
   "source": [
    "bonificaciones ={1172:0, 1644:0, 2617:0, 5130:0, 5532:0, 6341:0, 6650:0, 7238:0, 7685:0, 7782:0, 7903:0}\n",
    "bon_min=0\n",
    "for s,b in bonificaciones.items():\n",
    "    if (s*0.10)<=200:\n",
    "        bonificaciones[s]=float(200);\n",
    "        bon_min+=1;\n",
    "    else:\n",
    "        bonificaciones[s]= float(s*0.10);\n",
    "bon_max= max(bonificaciones.values())\n",
    "bon_sum= sum(bonificaciones.values())\n",
    "print('El gasto total de bonificaciones fue de $%.2f, de los cuales %d empleados recibieron la bonificación mínima, y la bonificación más alta fue de %.2f.' %(bon_sum,bon_min,bon_max))"
   ]
  },
  {
   "cell_type": "markdown",
   "id": "169fdf90",
   "metadata": {},
   "source": [
    "14 - Un equipo de científicos de datos está estudiando la diversidad biológica en un bosque. El equipo recopiló información sobre el número de especies de plantas y animales en cada área del bosque y almacenó estos datos en un diccionario. En él, la clave describe el área de los datos y los valores en las listas corresponden a las especies de plantas y animales en esas áreas, respectivamente.\n",
    "{'Área Norte': [2819, 7236], 'Área Leste': [1440, 9492], 'Área Sul': [5969, 7496], 'Área Oeste': [14446, 49688], 'Área Centro': [22558, 45148]}\n",
    "Escribe un código para calcular el promedio de especies por área e identificar el área con la mayor diversidad biológica. Sugerencia: utiliza las funciones incorporadas sum() y len()."
   ]
  },
  {
   "cell_type": "code",
   "execution_count": 108,
   "id": "0fae4dfe",
   "metadata": {},
   "outputs": [
    {
     "name": "stdout",
     "output_type": "stream",
     "text": [
      "Los promedios de especies por áreas son:\n",
      "{'Área Norte': 5027.5, 'Área Este': 5466.0, 'Área Sur': 6732.5, 'Área Oeste': 32067.0, 'Área Centro': 33853.0}\n",
      "Área con mayor diversidad biológica: Área Centro con un promedio de 33853.00 especies. \n"
     ]
    }
   ],
   "source": [
    "datos={'Área Norte': [2819, 7236], 'Área Este': [1440, 9492], 'Área Sur': [5969, 7496], 'Área Oeste': [14446, 49688], 'Área Centro': [22558, 45148]}\n",
    "datos_promedio={}\n",
    "for n,v in datos.items():\n",
    "    total=sum(v)\n",
    "    cantidad = len(v)\n",
    "    promedio = total/cantidad;\n",
    "    datos_promedio[n]=promedio\n",
    "max_lugar_promedio=max(datos_promedio, key=datos_promedio.get);\n",
    "max_promedio=max(datos_promedio.values());\n",
    "\n",
    "print('Los promedios de especies por áreas son:\\n%s\\nÁrea con mayor diversidad biológica: %s con un promedio de %.2f especies. ' %(datos_promedio,max_lugar_promedio,max_promedio))\n"
   ]
  },
  {
   "cell_type": "markdown",
   "id": "76558e85",
   "metadata": {},
   "source": [
    "15 - El departamento de Recursos Humanos de tu empresa te pidió ayuda para analizar las edades de los colaboradores de 4 sectores de la empresa. Para ello, te proporcionaron los siguientes datos:\n",
    "\n",
    "{'Setor A': [22, 26, 30, 30, 35, 38, 40, 56, 57, 65],\n",
    " 'Setor B': [22, 24, 26, 33, 41, 49, 50, 54, 60, 64],\n",
    " 'Setor C': [23, 26, 26, 29, 34, 35, 36, 41, 52, 56],\n",
    " 'Setor D': [19, 20, 25, 27, 34, 39, 42, 44, 50, 65]}\n",
    "\n",
    "Dado que cada sector tiene 10 colaboradores, construye un código que calcule la media de edad de cada sector, la edad media general entre todos los sectores y cuántas personas están por encima de la edad media general."
   ]
  },
  {
   "cell_type": "code",
   "execution_count": 126,
   "id": "30229643",
   "metadata": {},
   "outputs": [
    {
     "name": "stdout",
     "output_type": "stream",
     "text": [
      "La media de edad de cada sector es:\n",
      "{'Sector A': 39.9, 'Sector B': 42.3, 'Sector C': 35.8, 'Sector D': 36.5}\n",
      "La edad media general es de 38.62 años, y hay 18 personas por encima de dicho promedio\n"
     ]
    }
   ],
   "source": [
    "sectores= {'Sector A': [22, 26, 30, 30, 35, 38, 40, 56, 57, 65],\n",
    " 'Sector B': [22, 24, 26, 33, 41, 49, 50, 54, 60, 64],\n",
    " 'Sector C': [23, 26, 26, 29, 34, 35, 36, 41, 52, 56],\n",
    " 'Sector D': [19, 20, 25, 27, 34, 39, 42, 44, 50, 65]}\n",
    "media_sector={};\n",
    "personas = [];\n",
    "sup_media=0;\n",
    "\n",
    "for s,e in sectores.items():\n",
    "    promedio = sum(e)/len(e)\n",
    "    media_sector[s]=promedio\n",
    "    \n",
    "media_general = sum(media_sector.values())/len(media_sector);\n",
    "\n",
    "for l in sectores.values():\n",
    "    personas.extend(l);\n",
    "for p in personas:\n",
    "    if p>media_general:\n",
    "        sup_media+=1\n",
    "print('La media de edad de cada sector es:\\n%s\\nLa edad media general es de %.2f años, y hay %d personas por encima de dicho promedio' %(media_sector,media_general,sup_media))"
   ]
  }
 ],
 "metadata": {
  "kernelspec": {
   "display_name": "Python 3",
   "language": "python",
   "name": "python3"
  },
  "language_info": {
   "codemirror_mode": {
    "name": "ipython",
    "version": 3
   },
   "file_extension": ".py",
   "mimetype": "text/x-python",
   "name": "python",
   "nbconvert_exporter": "python",
   "pygments_lexer": "ipython3",
   "version": "3.13.2"
  }
 },
 "nbformat": 4,
 "nbformat_minor": 5
}
