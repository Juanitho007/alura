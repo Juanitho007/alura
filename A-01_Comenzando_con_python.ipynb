{
 "cells": [
  {
   "cell_type": "markdown",
   "id": "8ce4d2f6",
   "metadata": {},
   "source": [
    "Vamos a practicar el uso de la función print con algunas actividades. Para ello, resuelve los problemas propuestos en código:\n",
    "\n",
    "1 - Imprime la frase \"Escuela de Datos de Alura\"."
   ]
  },
  {
   "cell_type": "code",
   "execution_count": null,
   "id": "0213df18",
   "metadata": {},
   "outputs": [],
   "source": [
    "print(\"Escuela de Datos de Alura\")"
   ]
  },
  {
   "cell_type": "markdown",
   "id": "c095bed4",
   "metadata": {},
   "source": [
    "2 - Imprime tu nombre y tu apellido siguiendo la estructura a continuación:"
   ]
  },
  {
   "cell_type": "code",
   "execution_count": null,
   "id": "b863f62f",
   "metadata": {},
   "outputs": [],
   "source": [
    "print(\"Nombre: Juan Manuel\\nApellido:  Nuñez\")"
   ]
  },
  {
   "cell_type": "markdown",
   "id": "60faaecd",
   "metadata": {},
   "source": [
    "Imprime tu primer nombre letra por letra. Por ejemplo, si mi nombre es Álvaro, la salida sería:\n",
    "Á\n",
    "L\n",
    "V\n",
    "A\n",
    "R\n",
    "O"
   ]
  },
  {
   "cell_type": "code",
   "execution_count": null,
   "id": "81f39c44",
   "metadata": {},
   "outputs": [],
   "source": [
    "print(\"J\\nU\\nA\\nN\\n\\nM\\nA\\nN\\nU\\nE\\nL\")"
   ]
  },
  {
   "cell_type": "markdown",
   "id": "c81a6179",
   "metadata": {},
   "source": [
    "4 - Imprime tu fecha de nacimiento en formato día mes año. Recuerda que los valores de día y año no deben estar entre comillas. Suponiendo una fecha de cumpleaños el 28 de febrero de 2003, el formato debe ser como el siguiente: \n",
    "\n",
    "28 febrero 2003"
   ]
  },
  {
   "cell_type": "code",
   "execution_count": null,
   "id": "77b569c1",
   "metadata": {},
   "outputs": [],
   "source": [
    "print(1,\"noviembre\",1996)"
   ]
  },
  {
   "cell_type": "markdown",
   "id": "d2c6b98b",
   "metadata": {},
   "source": [
    "5 - Imprime, en una sola instrucción print, el año actual en el que estás realizando este curso. El valor del año debe ser un dato numérico, y la salida de print debe ser la siguiente:\n",
    "\n",
    "Año actual: [año]"
   ]
  },
  {
   "cell_type": "code",
   "execution_count": null,
   "id": "6bd7e1f8",
   "metadata": {},
   "outputs": [],
   "source": [
    "print(\"Año actual:\",2025)"
   ]
  }
 ],
 "metadata": {
  "language_info": {
   "name": "python"
  }
 },
 "nbformat": 4,
 "nbformat_minor": 5
}
