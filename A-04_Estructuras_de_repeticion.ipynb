{
 "cells": [
  {
   "cell_type": "markdown",
   "id": "a0d1b7e6",
   "metadata": {},
   "source": [
    "Vamos practicar el uso de estructuras de repetición como el \"while\" y el \"for\" a partir de algunas actividades. Ahora que estamos avanzando en el contenido, podemos hacer los desafíos más interesantes. ¡Para ello, trabajaremos en proyectos de código!\n",
    "\n",
    "Comencemos resolviendo algunos problemas para calentar y prepararnos para los proyectos.\n",
    "\n",
    "# Entrenando la programación\n",
    "\n",
    "1 - Escribe un programa que solicite dos números enteros e imprima todos los números enteros entre ellos."
   ]
  },
  {
   "cell_type": "code",
   "execution_count": null,
   "id": "40c5d0ac",
   "metadata": {},
   "outputs": [
    {
     "name": "stdout",
     "output_type": "stream",
     "text": [
      "12\n"
     ]
    }
   ],
   "source": [
    "inicio = int(input('Ingresa el primer número entero: '))\n",
    "fin = int(input('Ingresa el segundo número entero: '))\n",
    "if inicio < fin:\n",
    "  for i in range(inicio + 1, fin): \n",
    "    print(i)\n",
    "elif inicio > fin:\n",
    "  for i in range(fin + 1, inicio):\n",
    "    print(i)\n",
    "else:\n",
    "  print('Los números son iguales.')"
   ]
  },
  {
   "cell_type": "markdown",
   "id": "b5d9374a",
   "metadata": {},
   "source": [
    "2 - Escribe un programa para calcular cuántos días tomará que la colonia de una bacteria A supere o iguale a la colonia de una bacteria B, basado en tasas de crecimiento del 3% y 1.5%, respectivamente. Supón que la colonia A comienza con 4 elementos y B con 10."
   ]
  },
  {
   "cell_type": "code",
   "execution_count": 103,
   "id": "ce951edd",
   "metadata": {},
   "outputs": [
    {
     "name": "stdout",
     "output_type": "stream",
     "text": [
      "La bacteria a: alcanzó una población de 25.75 elementos, la bacteria b: alcazó la población de 25.55 elementos, en solo 63 días\n"
     ]
    }
   ],
   "source": [
    "bacterium_a=4;\n",
    "bacterium_b=10;\n",
    "days=0;\n",
    "while(bacterium_b>=bacterium_a):\n",
    "    bacterium_a*=1+0.03;\n",
    "    bacterium_b*=1+0.015;\n",
    "    days+=1;\n",
    "print('La bacteria a: alcanzó una población de %.2f elementos, la bacteria b: alcazó la población de %.2f elementos, en solo %d días'%(bacterium_a,bacterium_b,days));"
   ]
  },
  {
   "cell_type": "markdown",
   "id": "03a3da8a",
   "metadata": {},
   "source": [
    "3 - Para procesar una cantidad de 15 datos de evaluaciones de usuarios de un servicio de la empresa, necesitamos verificar si las calificaciones son válidas. Por lo tanto, escribe un programa que recibirá calificaciones del 0 al 5 y verificará si son valores válidos. Si se ingresa una calificación superior a 5 o inferior a 0, se repetirá hasta que el usuario ingrese un valor válido."
   ]
  },
  {
   "cell_type": "code",
   "execution_count": null,
   "id": "dd204833",
   "metadata": {},
   "outputs": [
    {
     "name": "stdout",
     "output_type": "stream",
     "text": [
      "[2, 3, 4, 5, 2, 1, 3, 4, 3, 2, 5, 4, 3, 4, 3]\n"
     ]
    }
   ],
   "source": [
    "data = [];\n",
    "while len(data) <15:\n",
    "    value=int(input(\"Ingresa una calificación\"))\n",
    "    if value>5 or value<0:\n",
    "        print(\"Calificación no válida\")\n",
    "        continue \n",
    "    data.append(value)\n",
    "print(data)"
   ]
  },
  {
   "cell_type": "markdown",
   "id": "242783ae",
   "metadata": {},
   "source": [
    "4 - Desarrolla un programa que lea un conjunto indefinido de temperaturas en grados Celsius y calcule su promedio. La lectura debe detenerse al ingresar el valor -273°C."
   ]
  },
  {
   "cell_type": "code",
   "execution_count": 14,
   "id": "e6e93b4c",
   "metadata": {},
   "outputs": [
    {
     "name": "stdout",
     "output_type": "stream",
     "text": [
      "Las datos ingresados son: [10, 23, 345, -34, -34, -45, 45, 273], y el  promedio de las 8 temperaturas, es de 72.88°C\n"
     ]
    }
   ],
   "source": [
    "data = [];\n",
    "average = 0;\n",
    "while True:\n",
    "    value=int(input(\"Ingresa la temperatura\"))\n",
    "    if value==-273:\n",
    "        break\n",
    "    data.append(value)\n",
    "for n in data:\n",
    "    average+=n/len(data)\n",
    "\n",
    "print('Las datos ingresados son: %s, y el  promedio de las %d temperaturas, es de %.2f°C'%(data,len(data),average))"
   ]
  },
  {
   "cell_type": "markdown",
   "id": "c816ab9c",
   "metadata": {},
   "source": [
    "5 - Escribe un programa que calcule el factorial de un número entero proporcionado por el usuario. Recuerda que el factorial de un número entero es el producto de ese número por todos sus antecesores hasta llegar al número 1. Por ejemplo, el factorial de 5 es 5 x 4 x 3 x 2 x 1 = 120."
   ]
  },
  {
   "cell_type": "code",
   "execution_count": 23,
   "id": "8deb4157",
   "metadata": {},
   "outputs": [
    {
     "name": "stdout",
     "output_type": "stream",
     "text": [
      "El factorial de 5 es 120\n"
     ]
    }
   ],
   "source": [
    "valor = int(input(\"Ingrese el número del cual se calculará su factorial\"));\n",
    "factorial = 1;\n",
    "for n in range(2,valor+1,1):\n",
    "    factorial*=n;\n",
    "print('El factorial de %d es %d'%(valor,factorial));"
   ]
  },
  {
   "cell_type": "markdown",
   "id": "e059597d",
   "metadata": {},
   "source": [
    "# Momento de los proyectos\n",
    "\n",
    "6 - Escribe un programa que genere la tabla de multiplicar de un número entero del 1 al 10, según la elección del usuario. Como ejemplo, para el número 2, la tabla de multiplicar debe mostrarse en el siguiente formato:"
   ]
  },
  {
   "cell_type": "code",
   "execution_count": null,
   "id": "f71b04e5",
   "metadata": {},
   "outputs": [
    {
     "name": "stdout",
     "output_type": "stream",
     "text": [
      "Tabla de multiplicar del 12\n",
      "12x1=12\n",
      "12x2=24\n",
      "12x3=36\n",
      "12x4=48\n",
      "12x5=60\n",
      "12x6=72\n",
      "12x7=84\n",
      "12x8=96\n",
      "12x9=108\n",
      "12x10=120\n"
     ]
    }
   ],
   "source": [
    "valor = int(input(\"Ingrese el número para generar la tabla de multiplicar\"));\n",
    "tabla = f'Tabla de multiplicar del {valor}:'\n",
    "for n in range(1,11,1):\n",
    "    res=n*valor\n",
    "    tabla+=f'\\n{valor}x{n}={res}' \n",
    "print(tabla)"
   ]
  },
  {
   "cell_type": "markdown",
   "id": "f23c9a4b",
   "metadata": {},
   "source": [
    "7 - Los números primos tienen diversas aplicaciones en Ciencia de Datos, como en criptografía y seguridad. Un número primo es aquel que es divisible solo por sí mismo y por 1. Por lo tanto, crea un programa que solicite un número entero y determine si es un número primo o no."
   ]
  },
  {
   "cell_type": "code",
   "execution_count": null,
   "id": "262e632d",
   "metadata": {},
   "outputs": [
    {
     "name": "stdout",
     "output_type": "stream",
     "text": [
      "Se determinó que el número 467: es primo\n"
     ]
    }
   ],
   "source": [
    "numero = int(input(\"Ingresa un número entero para determinar si es primo: \"))\n",
    "respuesta = 'es primo'\n",
    "\n",
    "if numero < 2:\n",
    "    respuesta = 'No es primo'\n",
    "else:\n",
    "    for n in range(2, int(numero**0.5) + 1):\n",
    "        if (numero % n) == 0:\n",
    "            respuesta = 'No es primo'\n",
    "            break\n",
    "\n",
    "print('Se determinó que el número %d: %s' % (numero, respuesta))"
   ]
  },
  {
   "cell_type": "markdown",
   "id": "d28161f4",
   "metadata": {},
   "source": [
    "8 - Vamos a comprender la distribución de edades de los pensionistas de una empresa de seguros. Escribe un programa que lea las edades de una cantidad no informada de clientes y muestre la distribución en los intervalos [0-25], [26-50], [51-75] y [76-100]. La entrada de datos se detendrá al ingresar un número negativo."
   ]
  },
  {
   "cell_type": "code",
   "execution_count": 104,
   "id": "60eeb6a5",
   "metadata": {},
   "outputs": [
    {
     "name": "stdout",
     "output_type": "stream",
     "text": [
      "Edad inválida\n",
      "Distribución de edades:\n",
      "[0-25]: 2\n",
      "[26-50]: 3\n",
      "[51-75]: 1\n",
      "[76-100]: 2\n"
     ]
    }
   ],
   "source": [
    "intervalo_1 = 0;\n",
    "intervalo_2 = 0;\n",
    "intervalo_3 = 0;\n",
    "intervalo_4 = 0;\n",
    "\n",
    "while True:\n",
    "    value=int(input(\"Ingresa tu edad\"))\n",
    "    if value<0:\n",
    "        print('Edad inválida')\n",
    "        break\n",
    "    elif 25>=value>=0:\n",
    "        intervalo_1+=1;\n",
    "    elif 50>=value>=26:\n",
    "        intervalo_2+=1;\n",
    "    elif 75>=value>=51:\n",
    "        intervalo_3+=1;\n",
    "    elif 100>=value>=76:\n",
    "        intervalo_4+=1;\n",
    "    else:\n",
    "        print('Edad no incluida en los intervalos')\n",
    "print('Distribución de edades:\\n[0-25]: {}\\n[26-50]: {}\\n[51-75]: {}\\n[76-100]: {}'.format(intervalo_1,intervalo_2,intervalo_3,intervalo_4))\n"
   ]
  },
  {
   "cell_type": "markdown",
   "id": "c64128b5",
   "metadata": {},
   "source": [
    "9 - En una elección para la gerencia de una empresa con 20 empleados, hay cuatro candidatos. Escribe un programa que calcule al ganador de la elección. La votación se realizó de la siguiente manera:\n",
    "\n",
    "Cada empleado votó por uno de los cuatro candidatos (representados por los números 1, 2, 3 y 4).\n",
    "\n",
    "También se contaron los votos nulos (representados por el número 5) y los votos en blanco (representados por el número 6).\n",
    "\n",
    "Al final de la votación, el programa debe mostrar el número total de votos para cada candidato, los votos nulos y los votos en blanco. Además, debe calcular y mostrar el porcentaje de votos nulos con respecto al total de votos y el porcentaje de votos en blanco con respecto al total de votos."
   ]
  },
  {
   "cell_type": "code",
   "execution_count": null,
   "id": "cdba2fab",
   "metadata": {},
   "outputs": [
    {
     "name": "stdout",
     "output_type": "stream",
     "text": [
      "Los resultados de las elecciones fueron:\n",
      "Candidato 1: 4 votos\n",
      "Candidato 2: 3 votos\n",
      "Candidato 3: 5 votos\n",
      "Candidato 4: 0 votos\n",
      "Votos nulos: 3, es decir el 15.00%\n",
      "Votos blancos: 5, es decir el 25.00%\n"
     ]
    }
   ],
   "source": [
    "import random\n",
    "candidato_1=0;\n",
    "candidato_2=0;\n",
    "candidato_3=0;\n",
    "candidato_4=0;\n",
    "nulo=0;\n",
    "blanco=0;\n",
    "porcentaje_nulo=0;\n",
    "porcentaje_blanco=0;\n",
    "\n",
    "for n in range(1,21,1):\n",
    "    voto=random.randint(1,6)\n",
    "    if voto==1:\n",
    "        candidato_1+=1\n",
    "    elif voto==2:\n",
    "        candidato_2+=1\n",
    "    elif voto==3:\n",
    "        candidato_3+=1\n",
    "    elif voto==4:\n",
    "        candidato_4+=1\n",
    "    elif voto==5:\n",
    "        nulo+=1\n",
    "    else:\n",
    "        blanco+=1\n",
    "print('Los resultados de las elecciones fueron:\\nCandidato 1: %d votos\\nCandidato 2: %d votos\\nCandidato 3: %d votos\\nCandidato 4: %d votos\\nVotos nulos: %d, es decir el %.2f%%\\nVotos blancos: %d, es decir el %.2f%%'%(candidato_1,candidato_2,candidato_3,candidato_4,nulo,(nulo/20)*100,blanco,(blanco/20)*100))\n"
   ]
  }
 ],
 "metadata": {
  "kernelspec": {
   "display_name": "Python 3",
   "language": "python",
   "name": "python3"
  },
  "language_info": {
   "codemirror_mode": {
    "name": "ipython",
    "version": 3
   },
   "file_extension": ".py",
   "mimetype": "text/x-python",
   "name": "python",
   "nbconvert_exporter": "python",
   "pygments_lexer": "ipython3",
   "version": "3.13.2"
  }
 },
 "nbformat": 4,
 "nbformat_minor": 5
}
