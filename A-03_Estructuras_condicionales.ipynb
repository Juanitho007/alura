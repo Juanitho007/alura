{
 "cells": [
  {
   "cell_type": "markdown",
   "id": "a0d1b7e6",
   "metadata": {},
   "source": [
    "Vamos practicar el uso de estructuras condicionales como el if, else y elif a través de algunas actividades. Ahora que estamos avanzando en los contenidos, podemos hacer los desafíos más interesantes: ¡trabajaremos en proyectos de código! Resuelve los problemas iniciales para prepararte para los proyectos:\n",
    "\n",
    "# Entrenando la programación\n",
    "\n",
    "1 - Escribe un programa que pida a la persona usuaria que proporcione dos números y muestre el número más grande."
   ]
  },
  {
   "cell_type": "code",
   "execution_count": null,
   "id": "40c5d0ac",
   "metadata": {},
   "outputs": [
    {
     "name": "stdout",
     "output_type": "stream",
     "text": [
      "El número mayor es: 243355.00.\n"
     ]
    }
   ],
   "source": [
    "num1 = float(input(\"Ingresa el primer número\"));\n",
    "num2 = float(input(\"Ingresa el segundo número\"));\n",
    "if num1>num2:\n",
    "    print(f'El número mayor es el primero. \\nNúmero 1:{num1}.');\n",
    "elif num1<num2:\n",
    "    print('El número mayor es el segundo. \\nNúmero 2:%.2f.' %(num2));\n",
    "else:\n",
    "    print('Los números son iguales: \\nNúmero 1:{}\\nNúmero 2:{}'.format(num1,num2));"
   ]
  },
  {
   "cell_type": "markdown",
   "id": "b5d9374a",
   "metadata": {},
   "source": [
    "2 - Escribe un programa que solicite el porcentaje de crecimiento de producción de una empresa e informe si hubo un crecimiento (porcentaje positivo) o una disminución (porcentaje negativo)."
   ]
  },
  {
   "cell_type": "code",
   "execution_count": null,
   "id": "ce951edd",
   "metadata": {},
   "outputs": [
    {
     "name": "stdout",
     "output_type": "stream",
     "text": [
      "Existió una disminución del 243.00%\n",
      "Existió un crecimiento del -243.0 de la empresa\n"
     ]
    }
   ],
   "source": [
    "crecimiento = float(input(\"Ingresa el porcentaje de crecimiento de la empresa\"));\n",
    "if crecimiento > 0:\n",
    "    print(f'Existió un crecimiento del {crecimiento}%%');\n",
    "elif crecimiento<0:\n",
    "    print('Existió una disminución del %.2f%%' %(abs(crecimiento)));\n",
    "else:\n",
    "        print('No hubo crecimiento ni decrecimiento.')\n",
    "print('Existió un crecimiento del {} de la empresa'.format(crecimiento));"
   ]
  },
  {
   "cell_type": "markdown",
   "id": "03a3da8a",
   "metadata": {},
   "source": [
    "3 - Escribe un programa que determine si una letra proporcionada por la persona usuaria es una vocal o una consonante."
   ]
  },
  {
   "cell_type": "code",
   "execution_count": null,
   "id": "dd204833",
   "metadata": {},
   "outputs": [
    {
     "name": "stdout",
     "output_type": "stream",
     "text": [
      "La letra \"a\" es una vocal.\n",
      "Tu letra ingresada es: \"a\".\n"
     ]
    }
   ],
   "source": [
    "letra = input(\"Ingresa la letra para determinar si es vocal o consonante\").lower();\n",
    "vocales = 'aeiou';\n",
    "if letra in vocales:\n",
    "    print(f'La letra \"{letra}\" es una vocal.');\n",
    "else:\n",
    "    print('La letra \"%s\" es una consonante.' %(letra));\n",
    "print('Tu letra ingresada es: \"{}\".'.format(letra));"
   ]
  },
  {
   "cell_type": "markdown",
   "id": "242783ae",
   "metadata": {},
   "source": [
    "4 - Escribe un programa que lea valores promedio de precios de un modelo de automóvil durante 3 años consecutivos y muestre el valor más alto y más bajo entre esos tres años."
   ]
  },
  {
   "cell_type": "code",
   "execution_count": null,
   "id": "e6e93b4c",
   "metadata": {},
   "outputs": [
    {
     "name": "stdout",
     "output_type": "stream",
     "text": [
      "El valor máximo es 2.0, y el mínimo es 0.0\n"
     ]
    }
   ],
   "source": [
    "valor1 = float(input(\"Ingrese el primer valor\"));\n",
    "valor2 = float(input(\"Ingrese el segundo valor\"));\n",
    "valor3 = float(input(\"Ingrese el tercer valor\"));\n",
    "if valor1==valor2==valor3:\n",
    "    print('Los 3 valores son iguales: %.2f' %(valor1));\n",
    "elif valor1>=valor2>=valor3:\n",
    "    print(f'El valor máximo es {valor1}, y el mínimo es {valor3}');\n",
    "elif valor1>=valor3>=valor2:\n",
    "    print(f'El valor máximo es {valor1}, y el mínimo es {valor2}');\n",
    "elif valor2>=valor1>=valor3:\n",
    "    print(f'El valor máximo es {valor2}, y el mínimo es {valor3}');\n",
    "elif valor2>=valor3>=valor1:\n",
    "    print(f'El valor máximo es {valor2}, y el mínimo es {valor1}');\n",
    "elif valor3>=valor2>=valor1:\n",
    "    print(f'El valor máximo es {valor3}, y el mínimo es {valor1}');\n",
    "elif valor3>=valor1>=valor2:\n",
    "    print(f'El valor máximo es {valor3}, y el mínimo es {valor2}');"
   ]
  },
  {
   "cell_type": "markdown",
   "id": "c816ab9c",
   "metadata": {},
   "source": [
    "5 - Escribe un programa que pregunte sobre el precio de tres productos e indique cuál es el producto más barato para comprar."
   ]
  },
  {
   "cell_type": "code",
   "execution_count": 54,
   "id": "8deb4157",
   "metadata": {},
   "outputs": [
    {
     "name": "stdout",
     "output_type": "stream",
     "text": [
      "El producto más económico es el primero y tercero, costando ambos: 2.0\n"
     ]
    }
   ],
   "source": [
    "valor1 = float(input(\"Ingrese el precio del primer artículo\"));\n",
    "valor2 = float(input(\"Ingrese el precio del segundo artículo\"));\n",
    "valor3 = float(input(\"Ingrese el precio del tercer artículo\"));\n",
    "if valor1>valor3 and valor2>valor3:\n",
    "    print(f'El producto más económico es el tercer artículo, costando: {valor3}');\n",
    "elif valor1>valor2 and valor3>valor2:\n",
    "    print(f'El producto más económico es el segundo artículo, costando: {valor2}');\n",
    "elif valor2>valor1 and valor3>valor1:\n",
    "    print(f'El producto más económico es el primer artículo, costando: {valor1}');\n",
    "elif valor1> valor2 and valor2==valor3:\n",
    "    print(f'El producto más económico es el segundo y tercero, costando ambos: {valor2}');\n",
    "elif valor2> valor1 and valor1==valor3:\n",
    "    print(f'El producto más económico es el primero y tercero, costando ambos: {valor1}');\n",
    "elif valor3> valor2 and valor2==valor1:\n",
    "    print(f'El producto más económico es el primero y segundo, costando ambos: {valor2}');\n",
    "else:\n",
    "    print('Los 3 productos cuestan lo mismo: %.2f' %(valor1));"
   ]
  },
  {
   "cell_type": "markdown",
   "id": "e059597d",
   "metadata": {},
   "source": [
    "6 - Escribe un programa que lea tres números y los muestre en orden descendente."
   ]
  },
  {
   "cell_type": "code",
   "execution_count": 42,
   "id": "f71b04e5",
   "metadata": {},
   "outputs": [
    {
     "name": "stdout",
     "output_type": "stream",
     "text": [
      "Los números ordenados de manera descendentes son: (123.0, 122.0, 14.0)\n"
     ]
    }
   ],
   "source": [
    "valor1 = float(input(\"Ingrese el primer número\"));\n",
    "valor2 = float(input(\"Ingrese el segundo número\"));\n",
    "valor3 = float(input(\"Ingrese el tercer número\"));\n",
    "if valor1==valor2==valor3:\n",
    "    print('Los 3 números son iguales: %.2f' %(valor1));\n",
    "elif valor1>=valor2>=valor3 :\n",
    "    print(f'Los números ordenados de manera descendentes son: {valor1,valor2,valor3}');\n",
    "elif valor1>=valor3>=valor2:\n",
    "    print(f'Los números ordenados de manera descendentes son: {valor1,valor3,valor2}');\n",
    "elif valor2>=valor1>=valor3:\n",
    "    print(f'Los números ordenados de manera descendentes son: {valor2,valor1,valor3}');\n",
    "elif valor2>=valor3>=valor1:\n",
    "    print(f'Los números ordenados de manera descendentes son: {valor2,valor3,valor1}');\n",
    "elif valor3>=valor2>=valor1:\n",
    "    print(f'Los números ordenados de manera descendentes son: {valor3,valor2,valor1}');\n",
    "elif valor3>=valor1>=valor2:\n",
    "    print(f'Los números ordenados de manera descendentes son: {valor3,valor1,valor2}');\n",
    "else:\n",
    "    print('No insertaste un número, ingresaste lo siguiente:\\nPrimer valor: {}\\nSegundo valor: {}\\nTercer valor: {}'.format(valor1,valor2,valor3))"
   ]
  },
  {
   "cell_type": "markdown",
   "id": "f23c9a4b",
   "metadata": {},
   "source": [
    "7 -Escribe un programa que pregunte en qué turno estudia la persona usuaria (\"mañana\", \"tarde\" o \"noche\") y muestre el mensaje \"¡Buenos Días!\", \"¡Buenas Tardes!\", \"¡Buenas Noches!\" o \"Valor Inválido!\", según el caso."
   ]
  },
  {
   "cell_type": "code",
   "execution_count": 56,
   "id": "262e632d",
   "metadata": {},
   "outputs": [
    {
     "name": "stdout",
     "output_type": "stream",
     "text": [
      "Valor Inválido!\n"
     ]
    }
   ],
   "source": [
    "horario = input(\"¿En que horario estudias; mañana, tarde o noche?\").lower();\n",
    "if horario == \"mañana\":\n",
    "    print(\"¡Buenos días!\")\n",
    "elif horario == \"tarde\":\n",
    "    print(\"¡Buenas tardes!\")\n",
    "elif horario == \"noche\":\n",
    "    print(\"¡Buenas noches!\")\n",
    "else:\n",
    "    print(\"Valor Inválido!\")"
   ]
  },
  {
   "cell_type": "markdown",
   "id": "d28161f4",
   "metadata": {},
   "source": [
    "8 - Escribe un programa que solicite un número entero a la persona usuaria y determine si es par o impar. Pista: Puedes usar el operador módulo (%)."
   ]
  },
  {
   "cell_type": "code",
   "execution_count": 61,
   "id": "60eeb6a5",
   "metadata": {},
   "outputs": [
    {
     "name": "stdout",
     "output_type": "stream",
     "text": [
      "El número 3243 es impar\n",
      "Gracias por participar, recuerda que tu número es 3243\n"
     ]
    }
   ],
   "source": [
    "numero = int(input(\"Ingresa un número entero para determinar si es par o impar\"));\n",
    "if numero%2 == 0:\n",
    "    print(f'El número {numero} es par')\n",
    "else:\n",
    "    print('El número %d es impar' %(numero))\n",
    "print('Gracias por participar, recuerda que tu número es {}'.format(numero))"
   ]
  },
  {
   "cell_type": "markdown",
   "id": "c64128b5",
   "metadata": {},
   "source": [
    "9 - Escribe un programa que pida un número a la persona usuaria y le informe si es entero o decimal."
   ]
  },
  {
   "cell_type": "code",
   "execution_count": 68,
   "id": "cdba2fab",
   "metadata": {},
   "outputs": [
    {
     "name": "stdout",
     "output_type": "stream",
     "text": [
      "El número 23200 es entero\n",
      "Gracias por participar, recuerda que tu número es 23200.0\n"
     ]
    }
   ],
   "source": [
    "numero = float(input(\"Ingresa un número para determinar si es entero o decimal\"));\n",
    "if numero%1 == 0:\n",
    "    print(f'El número {int(numero)} es entero')\n",
    "else:\n",
    "    print('El número %.2f es decimal' %(numero))\n",
    "print('Gracias por participar, recuerda que tu número es {}'.format(numero))"
   ]
  },
  {
   "cell_type": "markdown",
   "id": "152e815b",
   "metadata": {},
   "source": [
    "# Momento de los proyectos\n",
    "\n",
    "10 - Un programa debe ser escrito para leer dos números y luego preguntar a la persona usuaria qué operación desea realizar. El resultado de la operación debe incluir información sobre el número, si es par o impar, positivo o negativo, e entero o decimal."
   ]
  },
  {
   "cell_type": "code",
   "execution_count": 74,
   "id": "d6b97791",
   "metadata": {},
   "outputs": [
    {
     "name": "stdout",
     "output_type": "stream",
     "text": [
      "El resultado de la operación es: -5233.34, alguno datos interesantes es que es un número: impar, negativo, y decimal\n"
     ]
    }
   ],
   "source": [
    "operacion = int(input(\"Ingresa la operación a realizar(ingresa el número):\\n1)Suma\\n2)Resta\\n3)Multiplicación\\n4)División\\n5)División Entera\\n6)Módulo o residuo\\n7)Exponenciación\"))\n",
    "num1 = float(input(\"Ingresa el primer número\"));\n",
    "num2 = float(input(\"Ingresa el segundo número\"));\n",
    "resultado = None;\n",
    "datos = \"\";\n",
    "\n",
    "if operacion==1:\n",
    "    resultado = num1+num2;\n",
    "elif operacion==2:\n",
    "    resultado = num1-num2;\n",
    "elif operacion==3:\n",
    "    resultado = num1*num2;\n",
    "elif operacion==4:\n",
    "    resultado = num1/num2;\n",
    "elif operacion==5:\n",
    "    resultado = num1//num2;\n",
    "elif operacion==6:\n",
    "    resultado = num1%num2;\n",
    "elif operacion==7:\n",
    "    resultado = num1**num2;\n",
    "else:\n",
    "    print(\"Opción incorrecta\")    \n",
    "\n",
    "if resultado != None:     \n",
    "    if resultado%2 == 0:\n",
    "        datos += \"par, \"\n",
    "    else:\n",
    "        datos += \"impar, \"\n",
    "    if resultado > 0:\n",
    "        datos += \"positivo, \"\n",
    "    else:\n",
    "        datos += \"negativo, \"\n",
    "    if resultado%1==0:\n",
    "        datos += \"y entero\"\n",
    "    else:\n",
    "        datos += \"y decimal\"\n",
    "    print('El resultado de la operación es: %.2f, alguno datos interesantes es que es un número: %s' %(resultado,datos));\n"
   ]
  },
  {
   "cell_type": "markdown",
   "id": "fd7712da",
   "metadata": {},
   "source": [
    "11 - Escribe un programa que pida a la persona usuaria tres números que representan los lados de un triángulo. El programa debe informar si los valores pueden utilizarse para formar un triángulo y, en caso afirmativo, si es equilátero, isósceles o escaleno. Ten en cuenta algunas sugerencias:\n",
    "\n",
    "Tres lados forman un triángulo cuando la suma de cualesquiera dos lados es mayor que el tercero;\n",
    "Triángulo Equilátero: tres lados iguales;\n",
    "Triángulo Isósceles: dos lados iguales;\n",
    "Triángulo Escaleno: tres lados diferentes."
   ]
  },
  {
   "cell_type": "code",
   "execution_count": 88,
   "id": "4a213e01",
   "metadata": {},
   "outputs": [
    {
     "name": "stdout",
     "output_type": "stream",
     "text": [
      "Podemos construir un triángulo escaleno, con todos sus lados de diferentes medidas: 12.00 unidades, 13.00 unidades y 14.00 unidades\n"
     ]
    }
   ],
   "source": [
    "valor1 = float(input(\"Ingresa el primer valor del triángulo\"));\n",
    "valor2 = float(input(\"Ingresa el segundo valor del triángulo\"));\n",
    "valor3 = float(input(\"Ingresa el tercer valor del triángulo\"));\n",
    "if valor1==valor2==valor3:\n",
    "    print('Podemos construir un triángulo equilátero, con los 3 lados de: %.2f unidades' %(valor1));\n",
    "elif valor1!=valor2!=valor3 and valor1!=valor3:\n",
    "    print('Podemos construir un triángulo escaleno, con todos sus lados de diferentes medidas: %.2f unidades, %.2f unidades y %.2f unidades' %(valor1,valor2,valor3));\n",
    "else:\n",
    "    if(valor1==valor2):\n",
    "        print('Podemos construir un triángulo isósceles, con dos lados iguales de : %.2f unidades y un lado de: %.2f unidades' %(valor1,valor3));\n",
    "    elif(valor1==valor3):\n",
    "        print('Podemos construir un triángulo isósceles, con dos lados iguales de : %.2f unidades y un lado de: %.2f unidades' %(valor1,valor2));\n",
    "    elif(valor2==valor3):\n",
    "        print('Podemos construir un triángulo isósceles, con dos lados iguales de : %.2f unidades y un lado de: %.2f unidades' %(valor2,valor1));"
   ]
  },
  {
   "cell_type": "markdown",
   "id": "b4383c35",
   "metadata": {},
   "source": [
    "12 - Un establecimiento está vendiendo combustibles con descuentos variables. Para el etanol, si la cantidad comprada es de hasta 15 litros, el descuento será del 2% por litro. En caso contrario, será del 4% por litro. Para el diésel, si la cantidad comprada es de hasta 15 litros, el descuento será del 3% por litro. En caso contrario, será del 5% por litro. El precio por litro de diésel es de R$ 2,00 y el precio por litro de etanol es de R$ 1,70. Escribe un programa que lea la cantidad de litros vendidos y el tipo de combustible (E para etanol y D para diésel) y calcule el valor a pagar por el cliente. Ten en cuenta algunas sugerencias:\n",
    "\n",
    "El valor del descuento será el producto del precio por litro, la cantidad de litros y el valor del descuento.\n",
    "El valor a pagar por un cliente será el resultado de la multiplicación del precio por litro por la cantidad de litros menos el valor del descuento resultante del cálculo."
   ]
  },
  {
   "cell_type": "code",
   "execution_count": null,
   "id": "25d63009",
   "metadata": {},
   "outputs": [
    {
     "name": "stdout",
     "output_type": "stream",
     "text": [
      "¡Gracias por tu compra!\n",
      "Diésel\t$2.00 X Litro\n",
      "Litros comprados:\t10.00\n",
      "\tSubtotal: $20.00\n",
      "\tDescuento: $0.60\n",
      "\tTotal: $19.40\n"
     ]
    }
   ],
   "source": [
    "litros = float(input(\"Ingresa la cantidad de litro a comprar\"));\n",
    "tipo = input(\"Ingresa el tipo de combustible (E para etanol y D para diésel)\").upper();\n",
    "nombre = None;\n",
    "precio = None;\n",
    "descuento =None;\n",
    "subtotal = None;\n",
    "total= None;\n",
    "if tipo==\"E\":\n",
    "    nombre=\"Etanol\";\n",
    "    precio = 1.70;\n",
    "    subtotal=(litros*precio);\n",
    "    if litros<=15:\n",
    "        descuento=(litros*precio)*0.02;\n",
    "    else:\n",
    "        descuento=(litros*precio)*0.04;\n",
    "    total=subtotal-descuento; \n",
    "elif tipo==\"D\":\n",
    "    nombre=\"Diésel\";\n",
    "    precio = 2.00;\n",
    "    subtotal=(litros*precio);\n",
    "    if litros<=15:\n",
    "        descuento=(litros*precio)*0.03;\n",
    "    else:\n",
    "        descuento=(litros*precio)*0.05; \n",
    "    total=subtotal-descuento;\n",
    "else:\n",
    "    print(\"El tipo de combustible ingresado no es válido\")\n",
    "if total != None:\n",
    "    print('¡Gracias por tu compra!\\n%s\\t$%.2f X Litro\\nLitros comprados:\\t%.2f\\n\\tSubtotal: $%.2f\\n\\tDescuento: $%.2f\\n\\tTotal: $%.2f'%(nombre,precio,litros,subtotal,descuento,total))"
   ]
  },
  {
   "cell_type": "markdown",
   "id": "3ffd0437",
   "metadata": {},
   "source": [
    "13 - En una empresa de venta de bienes raíces, debes crear un código que analice los datos de ventas anuales para ayudar a la dirección en la toma de decisiones. El código debe recopilar los datos de cantidad de ventas durante los años 2022 y 2023 y calcular la variación porcentual. A partir del valor de la variación, se deben proporcionar las siguientes sugerencias:\n",
    "\n",
    "Para una variación superior al 20%: bonificación para el equipo de ventas.\n",
    "Para una variación entre el 2% y el 20%: pequeña bonificación para el equipo de ventas.\n",
    "Para una variación entre el 2% y el -10%: planificación de políticas de incentivo a las ventas.\n",
    "Para bonificaciones inferiores al -10%: recorte de gastos."
   ]
  },
  {
   "cell_type": "code",
   "execution_count": null,
   "id": "307947c6",
   "metadata": {},
   "outputs": [
    {
     "name": "stdout",
     "output_type": "stream",
     "text": [
      "Dado que la variación fue del 20.00%: pequeña bonificación para el equipo de ventas.\n"
     ]
    }
   ],
   "source": [
    "ventas1 = float(input(\"Ingresa la cantidad de ventas del 2022\"));\n",
    "ventas2 = float(input(\"Ingresa la cantidad de ventas del 2023\"));\n",
    "variacion = ((ventas2-ventas1)/ventas1) * 100;\n",
    "if variacion>20:\n",
    "    print('Dado que la variación fue del %.2f%%: bonificación para el equipo de ventas'%(variacion))\n",
    "elif 20>=variacion>=2:\n",
    "    print('Dado que la variación fue del %.2f%%: pequeña bonificación para el equipo de ventas.'%(variacion))\n",
    "elif 2>variacion>-10:\n",
    "    print('Dado que la variación fue del %.2f%%: planificación de políticas de incentivo a las ventas.'%(variacion))\n",
    "elif -10>=variacion:\n",
    "    print('Dado que la variación fue del %.2f%%: recorte de gastos.'%(variacion))"
   ]
  }
 ],
 "metadata": {
  "kernelspec": {
   "display_name": "Python 3",
   "language": "python",
   "name": "python3"
  },
  "language_info": {
   "codemirror_mode": {
    "name": "ipython",
    "version": 3
   },
   "file_extension": ".py",
   "mimetype": "text/x-python",
   "name": "python",
   "nbconvert_exporter": "python",
   "pygments_lexer": "ipython3",
   "version": "3.13.2"
  }
 },
 "nbformat": 4,
 "nbformat_minor": 5
}
