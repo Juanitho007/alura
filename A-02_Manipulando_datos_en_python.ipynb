{
 "cells": [
  {
   "cell_type": "markdown",
   "id": "a0d1b7e6",
   "metadata": {},
   "source": [
    "Vamos a practicar el uso de varios tipos de variables y la función input a través de algunas actividades. Resuelve los problemas propuestos en código.\n",
    "# Recopilación y muestra de datos\n",
    "1 - Crea un programa que solicite al usuario que escriba su nombre y luego imprima \"Hola, [nombre].\""
   ]
  },
  {
   "cell_type": "code",
   "execution_count": null,
   "id": "40c5d0ac",
   "metadata": {},
   "outputs": [],
   "source": [
    "nombre = input(\"Ingresa tu nombre\");\n",
    "print(f'Hola {nombre}.');\n",
    "print('Hola %s.' %(nombre));\n",
    "print('Hola {}'.format(nombre));"
   ]
  },
  {
   "cell_type": "markdown",
   "id": "b5d9374a",
   "metadata": {},
   "source": [
    "2 - Crea un programa que solicite al usuario que escriba su nombre y edad, y luego imprima \"Hola, [nombre], tienes [edad] años.\""
   ]
  },
  {
   "cell_type": "code",
   "execution_count": null,
   "id": "ce951edd",
   "metadata": {},
   "outputs": [],
   "source": [
    "nombre = input(\"Ingresa tu nombre\");\n",
    "edad = int(input(\"Ingresa tu edad\"));\n",
    "print(f'Hola, {nombre}, tienes {edad} años.');\n",
    "print('Hola, %s, tienes %d años.' %(nombre,edad));\n",
    "print('Hola, {}, tienes {} años.'.format(nombre,edad));"
   ]
  },
  {
   "cell_type": "markdown",
   "id": "03a3da8a",
   "metadata": {},
   "source": [
    "3 - Crea un programa que solicite al usuario que escriba su nombre, edad y altura en metros, y luego imprima \"Hola, [nombre], tienes [edad] años y mides [altura] metros.\""
   ]
  },
  {
   "cell_type": "code",
   "execution_count": null,
   "id": "dd204833",
   "metadata": {},
   "outputs": [],
   "source": [
    "nombre = input(\"Ingresa tu nombre\");\n",
    "edad = int(input(\"Ingresa tu edad\"));\n",
    "altura = float(input(\"Ingresa tu altura en metros\"));\n",
    "print(f'Hola, {nombre}, tienes {edad} años y mides {altura} metros.');\n",
    "print('Hola, %s, tienes %d años y mides %.2f metros.' %(nombre,edad,altura));\n",
    "print('Hola, {}, tienes {} años y mides {} metros.'.format(nombre,edad,altura));"
   ]
  },
  {
   "cell_type": "markdown",
   "id": "ae3c231a",
   "metadata": {},
   "source": [
    "# Calculadora con operadores\n",
    "\n",
    "4 - Crea un programa que solicite dos valores numéricos al usuario y luego imprima la suma de ambos valores.\n",
    "\n"
   ]
  },
  {
   "cell_type": "code",
   "execution_count": null,
   "id": "d6b97791",
   "metadata": {},
   "outputs": [
    {
     "name": "stdout",
     "output_type": "stream",
     "text": [
      "La suma de ambos números es: 42647.44\n",
      "La suma de ambos números es: 42647.44\n",
      "La suma de ambos números es: 42647.44\n"
     ]
    }
   ],
   "source": [
    "num1 = float(input(\"Ingresa el primer número\"));\n",
    "num2 = float(input(\"Ingresa el segundo número\"));\n",
    "resultado = num1+num2;\n",
    "print(f'El resultado de la suma es: {resultado}');\n",
    "print('El resultado de la suma es: %.2f' %(resultado));\n",
    "print('El resultado de la suma es: {}'.format(resultado));"
   ]
  },
  {
   "cell_type": "markdown",
   "id": "fd7712da",
   "metadata": {},
   "source": [
    "5 - Crea un programa que solicite tres valores numéricos al usuario y luego imprima la suma de los tres valores."
   ]
  },
  {
   "cell_type": "code",
   "execution_count": null,
   "id": "4a213e01",
   "metadata": {},
   "outputs": [
    {
     "name": "stdout",
     "output_type": "stream",
     "text": [
      "La suma de ambos números es: 8.0\n",
      "La suma de ambos números es: 8.00\n",
      "La suma de ambos números es: 8.0\n"
     ]
    }
   ],
   "source": [
    "num1 = float(input(\"Ingresa el primer número\"));\n",
    "num2 = float(input(\"Ingresa el segundo número\"));\n",
    "num3 = float(input(\"Ingresa el tercer número\"));\n",
    "resultado = num1+num2+num3;\n",
    "print(f'El resultado de la suma es: {resultado}');\n",
    "print('El resultado de la suma es: %.2f' %(resultado));\n",
    "print('El resultado de la suma es: {}'.format(resultado));"
   ]
  },
  {
   "cell_type": "markdown",
   "id": "b4383c35",
   "metadata": {},
   "source": [
    "6 - Crea un programa que solicite dos valores numéricos al usuario y luego imprima la resta del primero menos el segundo valor."
   ]
  },
  {
   "cell_type": "code",
   "execution_count": null,
   "id": "25d63009",
   "metadata": {},
   "outputs": [],
   "source": [
    "num1 = float(input(\"Ingresa el primer número\"));\n",
    "num2 = float(input(\"Ingresa el segundo número\"));\n",
    "resultado = num1-num2;\n",
    "print(f'El resultado de la resta es: {resultado}');\n",
    "print('El resultado de la resta es: %.2f' %(resultado));\n",
    "print('El resultado de la resta es: {}'.format(resultado));"
   ]
  },
  {
   "cell_type": "markdown",
   "id": "3ffd0437",
   "metadata": {},
   "source": [
    "7 - Crea un programa que solicite dos valores numéricos al usuario y luego imprima la multiplicación de los dos valores."
   ]
  },
  {
   "cell_type": "code",
   "execution_count": null,
   "id": "307947c6",
   "metadata": {},
   "outputs": [],
   "source": [
    "num1 = float(input(\"Ingresa el primer número\"));\n",
    "num2 = float(input(\"Ingresa el segundo número\"));\n",
    "resultado = num1*num2;\n",
    "print(f'El resultado de la multiplicación es: {resultado}');\n",
    "print('El resultado de la multiplicación es: %.2f' %(resultado));\n",
    "print('El resultado de la multiplicación es: {}'.format(resultado));"
   ]
  },
  {
   "cell_type": "markdown",
   "id": "323fdf78",
   "metadata": {},
   "source": [
    "8 - Crea un programa que solicite dos valores numéricos, un numerador y un denominador, y realice la división entre los dos valores. Asegúrate de que el valor del denominador no sea igual a 0."
   ]
  },
  {
   "cell_type": "code",
   "execution_count": null,
   "id": "4e83e945",
   "metadata": {},
   "outputs": [
    {
     "name": "stdout",
     "output_type": "stream",
     "text": [
      "La división de ambos números es: 0.10\n",
      "La división de ambos números es:  0.10\n",
      "La división de ambos números es: 0.10\n"
     ]
    }
   ],
   "source": [
    "num1 = float(input(\"Ingresa el numerador de la división\"));\n",
    "num2 = float(input(\"Ingresa el denominador de la división\"));\n",
    "if num2==0.0:\n",
    "    print(\"Error: No se puede dividir entre cero.\")\n",
    "else:\n",
    "    resultado = num1/num2;\n",
    "    print(f'El resultado de la división es: {resultado:.2f}');\n",
    "    print('El resultado de la división es: %.2f' %(resultado));\n",
    "    print('El resultado de la división es: {:.2f}'.format(resultado));"
   ]
  },
  {
   "cell_type": "markdown",
   "id": "95cc4fbb",
   "metadata": {},
   "source": [
    "9 - Crea un programa que solicite dos valores numéricos, un operador y una potencia, y realice la exponenciación entre estos dos valores."
   ]
  },
  {
   "cell_type": "code",
   "execution_count": null,
   "id": "fa5b61ba",
   "metadata": {},
   "outputs": [
    {
     "name": "stdout",
     "output_type": "stream",
     "text": [
      "El resultado de la operación es: 27.00\n",
      "El resultado de la operación es: 27.00\n",
      "El resultado de la operación es: 27.00\n"
     ]
    }
   ],
   "source": [
    "num1 = float(input(\"Ingresa el número operador\"));\n",
    "num2 = float(input(\"Ingresa el número potencia\"));\n",
    "resultado = num1**num2;\n",
    "print(f'El resultado de la exponenciación es: {resultado:.2f}');\n",
    "print('El resultado de la exponenciación es: %.2f' %(resultado));\n",
    "print('El resultado de la exponenciación es: {:.2f}'.format(resultado));"
   ]
  },
  {
   "cell_type": "markdown",
   "id": "f00c4d9d",
   "metadata": {},
   "source": [
    "10 - Crea un programa que solicite dos valores numéricos, un numerador y un denominador, y realice la división entera entre los dos valores. Asegúrate de que el valor del denominador no sea igual a 0."
   ]
  },
  {
   "cell_type": "code",
   "execution_count": null,
   "id": "b3728c04",
   "metadata": {},
   "outputs": [],
   "source": [
    "num1 = float(input(\"Ingresa el numerador de la división\"));\n",
    "num2 = float(input(\"Ingresa el denominador de la división\"));\n",
    "if num2==0.0:\n",
    "    print(\"Error: No se puede dividir entre cero.\")\n",
    "else:\n",
    "    resultado = num1//num2\n",
    "    print(f'El resultado de la división entera es: {resultado:.2f}');\n",
    "    print('El resultado de la división entera es: %.2f' %(resultado));\n",
    "    print('El resultado de la división entera es: {:.2f}'.format(resultado));"
   ]
  },
  {
   "cell_type": "markdown",
   "id": "4d517917",
   "metadata": {},
   "source": [
    "11 - Crea un programa que solicite dos valores numéricos, un numerador y un denominador, y devuelva el resto de la división entre los dos valores. Asegúrate de que el valor del denominador no sea igual a 0."
   ]
  },
  {
   "cell_type": "code",
   "execution_count": null,
   "id": "a5004bf7",
   "metadata": {},
   "outputs": [],
   "source": [
    "num1 = float(input(\"Ingresa el numerador de la división\"));\n",
    "num2 = float(input(\"Ingresa el denominador de la división\"));\n",
    "if num2==0.0:\n",
    "    print(\"Error: No se puede dividir entre cero.\")\n",
    "else:\n",
    "    resultado = num1%num2;\n",
    "    print(f'El resultado de la división entera es: {resultado:.2f}');\n",
    "    print('El resultado de la división entera es: %.2f' %(resultado));\n",
    "    print('El resultado de la división entera es: {:.2f}'.format(resultado));"
   ]
  },
  {
   "cell_type": "markdown",
   "id": "f3d6f610",
   "metadata": {},
   "source": [
    "12 - Crea un código que solicite las 3 notas de un estudiante e imprima el promedio de las notas."
   ]
  },
  {
   "cell_type": "code",
   "execution_count": null,
   "id": "c6c483ae",
   "metadata": {},
   "outputs": [
    {
     "name": "stdout",
     "output_type": "stream",
     "text": [
      "El resultado de tu promedio es: 39.67\n",
      "El resultado de la exponenciación es: 39.67\n",
      "El resultado de la exponenciación es: 39.67\n"
     ]
    }
   ],
   "source": [
    "num1 = float(input(\"Ingresa el tu primera nota\"));\n",
    "num2 = float(input(\"Ingresa el tu segunda nota\"));\n",
    "num3 = float(input(\"Ingresa tu tercera nota\"));\n",
    "resultado = (num1+num2+num3)/3;\n",
    "print(f'El resultado de tu promedio es: {resultado:.2f}');\n",
    "print('El resultado de tu promedio es: %.2f' %(resultado));\n",
    "print('El resultado de tu promedio es: {:.2f}'.format(resultado));"
   ]
  },
  {
   "cell_type": "markdown",
   "id": "c70fe70a",
   "metadata": {},
   "source": [
    "13 - Crea un código que calcule e imprima el promedio ponderado de los números 5, 12, 20 y 15 con pesos respectivamente iguales a 1, 2, 3 y 4."
   ]
  },
  {
   "cell_type": "code",
   "execution_count": 14,
   "id": "f01421bc",
   "metadata": {},
   "outputs": [
    {
     "name": "stdout",
     "output_type": "stream",
     "text": [
      "El resultado de tu promedio ponderado es: 14.90\n",
      "El resultado de tu promedio ponderado es: 14.90\n",
      "El resultado de tu promedio ponderado es: 14.90\n"
     ]
    }
   ],
   "source": [
    "resultado=(5*1+12*2+20*3+15*4)/(1+2+3+4)\n",
    "print(f'El resultado de tu promedio ponderado es: {resultado:.2f}');\n",
    "print('El resultado de tu promedio ponderado es: %.2f' %(resultado));\n",
    "print('El resultado de tu promedio ponderado es: {:.2f}'.format(resultado));"
   ]
  },
  {
   "cell_type": "markdown",
   "id": "da5264b8",
   "metadata": {},
   "source": [
    "# Editando textos\n",
    "\n",
    "14 - Crea una variable llamada \"frase\" y asígnale una cadena de texto de tu elección. Luego, imprime la frase en pantalla."
   ]
  },
  {
   "cell_type": "code",
   "execution_count": null,
   "id": "8106ff6d",
   "metadata": {},
   "outputs": [
    {
     "name": "stdout",
     "output_type": "stream",
     "text": [
      "Tu frase del día es: \"Rendirse jamás\"\n",
      "Tu frase del día es: \"Rendirse jamás\"\n",
      "Tu frase del día es: \"Rendirse jamás\"\n"
     ]
    }
   ],
   "source": [
    "frase= \"Rendirse jamás\";\n",
    "print(f'Tu frase del día es: \"{frase}\"');\n",
    "print('Tu frase del día es: \"%s\"' %(frase));\n",
    "print('Tu frase del día es: \"{}\"'.format(frase));"
   ]
  },
  {
   "cell_type": "markdown",
   "id": "366bb31a",
   "metadata": {},
   "source": [
    "15 - Crea un código que solicite una frase y luego imprima la frase en pantalla."
   ]
  },
  {
   "cell_type": "code",
   "execution_count": null,
   "id": "4ae45ba9",
   "metadata": {},
   "outputs": [],
   "source": [
    "frase=input(\"Ingresa tu frase favorita\");\n",
    "print(f'Tu frase del día es: \"{frase}\"');\n",
    "print('Tu frase del día es: \"%s\"' %(frase));\n",
    "print('Tu frase del día es: \"{}\"'.format(frase));"
   ]
  },
  {
   "cell_type": "markdown",
   "id": "1f22aebf",
   "metadata": {},
   "source": [
    "16 - Crea un código que solicite una frase al usuario y luego imprima la misma frase ingresada pero en mayúsculas."
   ]
  },
  {
   "cell_type": "code",
   "execution_count": 5,
   "id": "a0e193f6",
   "metadata": {},
   "outputs": [
    {
     "name": "stdout",
     "output_type": "stream",
     "text": [
      "Tu frase del día es: \"NUNCA PARA ATRAS\"\n",
      "Tu frase del día es: \"NUNCA PARA ATRAS\"\n",
      "Tu frase del día es: \"NUNCA PARA ATRAS\"\n"
     ]
    }
   ],
   "source": [
    "frase=input(\"Ingresa tu frase favorita\").upper();\n",
    "print(f'Tu frase del día es: \"{frase}\"');\n",
    "print('Tu frase del día es: \"%s\"' %(frase));\n",
    "print('Tu frase del día es: \"{}\"'.format(frase));"
   ]
  },
  {
   "cell_type": "markdown",
   "id": "27534cb7",
   "metadata": {},
   "source": [
    "17 - Crea un código que solicite una frase al usuario y luego imprima la misma frase ingresada pero en minúsculas."
   ]
  },
  {
   "cell_type": "code",
   "execution_count": null,
   "id": "efa29bcb",
   "metadata": {},
   "outputs": [],
   "source": [
    "frase=input(\"Ingresa tu frase favorita\").lower();\n",
    "print(f'Tu frase del día es: \"{frase}\"');\n",
    "print('Tu frase del día es: \"%s\"' %(frase));\n",
    "print('Tu frase del día es: \"{}\"'.format(frase));"
   ]
  },
  {
   "cell_type": "markdown",
   "id": "652c0a30",
   "metadata": {},
   "source": [
    "18 - Crea una variable llamada \"frase\" y asígnale una cadena de texto de tu elección. Luego, imprime la frase sin espacios en blanco al principio y al final."
   ]
  },
  {
   "cell_type": "code",
   "execution_count": 6,
   "id": "dc5f705c",
   "metadata": {},
   "outputs": [
    {
     "name": "stdout",
     "output_type": "stream",
     "text": [
      "Tu frase del día es: \"Rendirse jamás\"\n",
      "Tu frase del día es: \"Rendirse jamás\"\n",
      "Tu frase del día es: \"Rendirse jamás\"\n"
     ]
    }
   ],
   "source": [
    "frase= \"   Rendirse jamás   \";\n",
    "print(f'Tu frase del día es: \"{frase.strip()}\"');\n",
    "print('Tu frase del día es: \"%s\"' %(frase.strip()));\n",
    "print('Tu frase del día es: \"{}\"'.format(frase.strip()));"
   ]
  },
  {
   "cell_type": "markdown",
   "id": "b6f06169",
   "metadata": {},
   "source": [
    "19 - Crea un código que solicite una frase al usuario y luego imprima la misma frase sin espacios en blanco al principio y al final."
   ]
  },
  {
   "cell_type": "code",
   "execution_count": 7,
   "id": "3d307609",
   "metadata": {},
   "outputs": [
    {
     "name": "stdout",
     "output_type": "stream",
     "text": [
      "Tu frase del día es: \"nunca para atras\"\n",
      "Tu frase del día es: \"nunca para atras\"\n",
      "Tu frase del día es: \"nunca para atras\"\n"
     ]
    }
   ],
   "source": [
    "frase=input(\"Ingresa tu frase favorita\").strip();\n",
    "print(f'Tu frase del día es: \"{frase}\"');\n",
    "print('Tu frase del día es: \"%s\"' %(frase));\n",
    "print('Tu frase del día es: \"{}\"'.format(frase));"
   ]
  },
  {
   "cell_type": "markdown",
   "id": "a99fa82d",
   "metadata": {},
   "source": [
    "20 - Crea un código que solicite una frase al usuario y luego imprima la misma frase sin espacios en blanco al principio y al final, además de convertirla a minúsculas."
   ]
  },
  {
   "cell_type": "code",
   "execution_count": 8,
   "id": "7300265a",
   "metadata": {},
   "outputs": [
    {
     "name": "stdout",
     "output_type": "stream",
     "text": [
      "Tu frase del día es: \"NUNCA ATRAS\"\n",
      "Tu frase del día es: \"NUNCA ATRAS\"\n",
      "Tu frase del día es: \"NUNCA ATRAS\"\n"
     ]
    }
   ],
   "source": [
    "frase=input(\"Ingresa tu frase favorita\").strip().upper();\n",
    "print(f'Tu frase del día es: \"{frase}\"');\n",
    "print('Tu frase del día es: \"%s\"' %(frase));\n",
    "print('Tu frase del día es: \"{}\"'.format(frase));"
   ]
  },
  {
   "cell_type": "markdown",
   "id": "92f50413",
   "metadata": {},
   "source": [
    "21 - Crea un código que solicite una frase al usuario y luego imprima la misma frase con todas las vocales \"e\" reemplazadas por la letra \"f\"."
   ]
  },
  {
   "cell_type": "code",
   "execution_count": null,
   "id": "df3f7700",
   "metadata": {},
   "outputs": [
    {
     "name": "stdout",
     "output_type": "stream",
     "text": [
      "Tu frase del día es: \"nada di ir hacia atras\"\n",
      "Tu frase del día es: \"nada di ir hacia atras\"\n",
      "Tu frase del día es: \"nada di ir hacia atras\"\n"
     ]
    }
   ],
   "source": [
    "frase=input(\"Ingresa tu frase favorita\").lower().replace('e','i');\n",
    "print(f'Tu frase del día es: \"{frase}\"');\n",
    "print('Tu frase del día es: \"%s\"' %(frase));\n",
    "print('Tu frase del día es: \"{}\"'.format(frase));"
   ]
  },
  {
   "cell_type": "markdown",
   "id": "d2e4ac3c",
   "metadata": {},
   "source": [
    "22 - Crea un código que solicite una frase al usuario y luego imprima la misma frase con todas las vocales \"a\" reemplazadas por el carácter \"@\"."
   ]
  },
  {
   "cell_type": "code",
   "execution_count": null,
   "id": "6a66d038",
   "metadata": {},
   "outputs": [
    {
     "name": "stdout",
     "output_type": "stream",
     "text": [
      "Tu frase del día es: \"Nuc@ h@ci@ @tr@s\"\n",
      "Tu frase del día es: \"Nuc@ h@ci@ @tr@s\"\n",
      "Tu frase del día es: \"Nuc@ h@ci@ @tr@s\"\n"
     ]
    }
   ],
   "source": [
    "frase=input(\"Ingresa tu frase favorita\").lower().replace('a', chr(64));\n",
    "print(f'Tu frase del día es: \"{frase}\"');\n",
    "print('Tu frase del día es: \"%s\"' %(frase));\n",
    "print('Tu frase del día es: \"{}\"'.format(frase));"
   ]
  },
  {
   "cell_type": "markdown",
   "id": "a8b017ca",
   "metadata": {},
   "source": [
    "23 - Crea un código que solicite una frase al usuario y luego imprima la misma frase con todas las consonantes \"s\" reemplazadas por el carácter \"$\"."
   ]
  },
  {
   "cell_type": "code",
   "execution_count": null,
   "id": "eec6f5c4",
   "metadata": {},
   "outputs": [
    {
     "name": "stdout",
     "output_type": "stream",
     "text": [
      "Tu frase del día es: \"$iempre ve$ la meta, nunca el e$fuerzo\"\n",
      "Tu frase del día es: \"$iempre ve$ la meta, nunca el e$fuerzo\"\n",
      "Tu frase del día es: \"$iempre ve$ la meta, nunca el e$fuerzo\"\n"
     ]
    }
   ],
   "source": [
    "frase=input(\"Ingresa tu frase favorita\").lower().replace('s', chr(36));\n",
    "print(f'Tu frase del día es: \"{frase}\"');\n",
    "print('Tu frase del día es: \"%s\"' %(frase));\n",
    "print('Tu frase del día es: \"{}\"'.format(frase));"
   ]
  }
 ],
 "metadata": {
  "kernelspec": {
   "display_name": "Python 3",
   "language": "python",
   "name": "python3"
  },
  "language_info": {
   "codemirror_mode": {
    "name": "ipython",
    "version": 3
   },
   "file_extension": ".py",
   "mimetype": "text/x-python",
   "name": "python",
   "nbconvert_exporter": "python",
   "pygments_lexer": "ipython3",
   "version": "3.13.2"
  }
 },
 "nbformat": 4,
 "nbformat_minor": 5
}
